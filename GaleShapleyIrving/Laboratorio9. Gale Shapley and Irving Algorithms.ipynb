{
  "nbformat": 4,
  "nbformat_minor": 0,
  "metadata": {
    "colab": {
      "name": "Laboratorio 9. Gale-Shapley and Irving Algorithms.",
      "provenance": [],
      "collapsed_sections": []
    },
    "kernelspec": {
      "name": "python3",
      "display_name": "Python 3"
    }
  },
  "cells": [
    {
      "cell_type": "markdown",
      "metadata": {
        "id": "K702YZhWG360"
      },
      "source": [
        "# Laboratorio 9. Gale-Shapley and Irving Algorithms.\n",
        "\n",
        "Nombre: Simón Aparicio Bocanegra."
      ]
    },
    {
      "cell_type": "markdown",
      "metadata": {
        "id": "wBbvjJaWiLl3"
      },
      "source": [
        "1) Find the best and worst cases fro the Gale-Shapley and Irving ( An Efficient Algorithm for the “Stable Roommates” Problem) Algorithms and run in Colab these algorithms for those cases for n=4, and 40."
      ]
    },
    {
      "cell_type": "markdown",
      "metadata": {
        "id": "9cMuzjoILnYy"
      },
      "source": [
        "## Problema del matrimonio estable (SMP). Algoritmo Gale-Shapley."
      ]
    },
    {
      "cell_type": "markdown",
      "metadata": {
        "id": "5B0yvL57j3vk"
      },
      "source": [
        "A continuación encontramos la implementación del algoritmo Gale-Shapley para el problema del matrimonio estable (SMP)."
      ]
    },
    {
      "cell_type": "code",
      "metadata": {
        "id": "mXNDRzNSj3Pd"
      },
      "source": [
        "def prefers_over_gale(prefer, w, m1, m2):\n",
        "    n = len(prefer)//2\n",
        "    for i in range(n): \n",
        "        if (prefer[w][i] == m1): \n",
        "            return True\n",
        "\n",
        "        if (prefer[w][i] == m2): \n",
        "            return False\n",
        "  \n",
        "def gale(prefer):\n",
        "    n = len(prefer)//2\n",
        "\n",
        "    match = [-1 for i in range(n)] #women only \n",
        "    free = [True for i in range(n)] #men only \n",
        "  \n",
        "    freecount = n\n",
        "    proposals = 0\n",
        "\n",
        "    while (freecount > 0): \n",
        "        m = 0\n",
        "        while m < n-1: \n",
        "            if free[m]: \n",
        "                break\n",
        "            m += 1\n",
        "  \n",
        "        i = 0\n",
        "        while i < n and free[m]: \n",
        "            w = prefer[m][i]\n",
        "\n",
        "            if match[w-n] == -1: \n",
        "                match[w-n] = m \n",
        "                free[m] = False\n",
        "                freecount -= 1\n",
        "                proposals += 1\n",
        "  \n",
        "            else: \n",
        "                m1 = match[w-n]\n",
        "  \n",
        "                if prefers_over_gale(prefer, w, m, m1):\n",
        "                    match[w-n] = m \n",
        "                    free[m] = False\n",
        "                    free[m1] = True\n",
        "                    proposals += 1\n",
        "                \n",
        "            i += 1\n",
        "          \n",
        "            \n",
        "  \n",
        "    return [match,proposals]"
      ],
      "execution_count": 1,
      "outputs": []
    },
    {
      "cell_type": "markdown",
      "metadata": {
        "id": "CxSRRFb3x0U7"
      },
      "source": [
        "Esta implementación necesita codificar a aquellos que realizan las propuestas entre 0 y n-1 y a aquellos que las reciben entre n y 2n-1. La función recibe una lista de preferencias y retorna la lista de propuestas escogidas y el número de propuestas necesarias durante el proceso.\n",
        "\n",
        "Veamos un ejemplo:"
      ]
    },
    {
      "cell_type": "code",
      "metadata": {
        "colab": {
          "base_uri": "https://localhost:8080/"
        },
        "id": "ojwB5AqTxzO9",
        "outputId": "f9268fcf-3c5a-407a-9fdd-372781db5c36"
      },
      "source": [
        "prefer = [[7, 5, 6, 4], [5, 4, 6, 7], \n",
        "          [4, 5, 6, 7], [4, 5, 6, 7], \n",
        "          [0, 1, 2, 3], [0, 1, 2, 3], \n",
        "          [0, 1, 2, 3], [0, 1, 2, 3]] \n",
        "\n",
        "print('Mujeres:\\t',[list(range(len(prefer)//2,len(prefer))),'# proposals'])\n",
        "print('Hombres:\\t',gale(prefer))"
      ],
      "execution_count": 2,
      "outputs": [
        {
          "output_type": "stream",
          "text": [
            "Mujeres:\t [[4, 5, 6, 7], '# proposals']\n",
            "Hombres:\t [[2, 1, 3, 0], 4]\n"
          ],
          "name": "stdout"
        }
      ]
    },
    {
      "cell_type": "markdown",
      "metadata": {
        "id": "s-oqpWuW01MD"
      },
      "source": [
        "Analicemos ahora el mejor y peor caso posible para n = 4 (4 mujeres y 4 hombres):\n"
      ]
    },
    {
      "cell_type": "code",
      "metadata": {
        "colab": {
          "base_uri": "https://localhost:8080/"
        },
        "id": "bIETH2br3nNA",
        "outputId": "24ab1f92-eae5-4ef6-8f6e-04a1b619533c"
      },
      "source": [
        "best_case = [[4, 5, 6, 7],\n",
        "             [5, 6, 7, 4],\n",
        "             [6, 7, 4, 5],\n",
        "             [7, 4, 5, 6],\n",
        "             [0, 1, 2, 3],\n",
        "             [1, 2, 3, 0],\n",
        "             [2, 3, 0, 1],\n",
        "             [3, 0, 1, 2]]\n",
        "\n",
        "worst_case = [[4, 5, 6, 7],\n",
        "              [5, 6, 4, 7],\n",
        "              [6, 4, 5, 7],\n",
        "              [4, 5, 6, 7],\n",
        "              [1, 2, 3, 0],\n",
        "              [2, 3, 0, 1],\n",
        "              [3, 0, 1, 2],\n",
        "              [0, 1, 2, 3]]\n",
        "\n",
        "print('Mejor caso:')\n",
        "print('Mujeres:\\t',[list(range(len(best_case)//2,len(best_case))),'# propuestas'])\n",
        "print('Hombres:\\t',gale(best_case))\n",
        "\n",
        "print('\\nPeor caso:')\n",
        "print('Mujeres:\\t',[list(range(len(worst_case)//2,len(worst_case))),'# propuestas'])\n",
        "print('Hombres:\\t',gale(worst_case)) "
      ],
      "execution_count": 3,
      "outputs": [
        {
          "output_type": "stream",
          "text": [
            "Mejor caso:\n",
            "Mujeres:\t [[4, 5, 6, 7], '# propuestas']\n",
            "Hombres:\t [[0, 1, 2, 3], 4]\n",
            "\n",
            "Peor caso:\n",
            "Mujeres:\t [[4, 5, 6, 7], '# propuestas']\n",
            "Hombres:\t [[1, 2, 3, 0], 13]\n"
          ],
          "name": "stdout"
        }
      ]
    },
    {
      "cell_type": "markdown",
      "metadata": {
        "id": "XMSnRXws-vkK"
      },
      "source": [
        "Ahora analicemos el mejor y el peor caso para n = 40."
      ]
    },
    {
      "cell_type": "code",
      "metadata": {
        "colab": {
          "base_uri": "https://localhost:8080/"
        },
        "id": "5yHnuI28-pnQ",
        "outputId": "657cafe3-cfd0-4da7-f7ec-71535782659e"
      },
      "source": [
        "n = 40\n",
        "\n",
        "best_case = [list(range(i,2*n))+list(range(n,i)) for i in range(n,2*n)] + [list(range(i,n))+list(range(i)) for i in range(n)]\n",
        "\n",
        "worst_case = [list(range(i,2*n-1))+list(range(n,i))+[2*n-1] for i in range(n,2*n)] + [list(range((i+1),n))+list(range(i))+[i] for i in range(n)]\n",
        "\n",
        "# print(worst)\n",
        "\n",
        "print('Mejor caso:')\n",
        "print('Mujeres:\\t',[list(range(len(best_case)//2,len(best_case))),'# propuestas'])\n",
        "print('Hombres:\\t',gale(best_case))\n",
        "\n",
        "print('\\nPeor caso:')\n",
        "print('Mujeres:\\t',[list(range(len(worst_case)//2,len(worst_case))),'# propuestas'])\n",
        "print('Hombres:\\t',gale(worst_case)) "
      ],
      "execution_count": 4,
      "outputs": [
        {
          "output_type": "stream",
          "text": [
            "Mejor caso:\n",
            "Mujeres:\t [[40, 41, 42, 43, 44, 45, 46, 47, 48, 49, 50, 51, 52, 53, 54, 55, 56, 57, 58, 59, 60, 61, 62, 63, 64, 65, 66, 67, 68, 69, 70, 71, 72, 73, 74, 75, 76, 77, 78, 79], '# propuestas']\n",
            "Hombres:\t [[0, 1, 2, 3, 4, 5, 6, 7, 8, 9, 10, 11, 12, 13, 14, 15, 16, 17, 18, 19, 20, 21, 22, 23, 24, 25, 26, 27, 28, 29, 30, 31, 32, 33, 34, 35, 36, 37, 38, 39], 40]\n",
            "\n",
            "Peor caso:\n",
            "Mujeres:\t [[40, 41, 42, 43, 44, 45, 46, 47, 48, 49, 50, 51, 52, 53, 54, 55, 56, 57, 58, 59, 60, 61, 62, 63, 64, 65, 66, 67, 68, 69, 70, 71, 72, 73, 74, 75, 76, 77, 78, 79], '# propuestas']\n",
            "Hombres:\t [[1, 2, 3, 4, 5, 6, 7, 8, 9, 10, 11, 12, 13, 14, 15, 16, 17, 18, 19, 20, 21, 22, 23, 24, 25, 26, 27, 28, 29, 30, 31, 32, 33, 34, 35, 36, 37, 38, 39, 0], 1561]\n"
          ],
          "name": "stdout"
        }
      ]
    },
    {
      "cell_type": "markdown",
      "metadata": {
        "id": "Y2V7N18UL4Zt"
      },
      "source": [
        "## Problema del compañero estable (SRP). Algoritmo Irving."
      ]
    },
    {
      "cell_type": "markdown",
      "metadata": {
        "id": "cAgxUX64L4Zt"
      },
      "source": [
        "A continuación encontramos la implementación del algoritmo Irving para el problema del compañero estable (SMP). Este problema presenta complicaciones que el SMP no presenta, por ejemplo, existen listas de preferencias que no tienen solución, es decir, no tienen una solución estable, es por eso necesario crear una función que sea capaz de identificar si la solución dada es o no estable (`check_stability_irving(prefer, mate)`), existen además combinaciones no estables en donde el algoritmo se queda atrapado e itera sobre una serie de preferencias de manera ciclica, por lo tanto un contador que vigila el número de iteraciones es capaz de sacar del proceso si las iteraciones son muy muchas."
      ]
    },
    {
      "cell_type": "code",
      "metadata": {
        "id": "GCxmZwiCL4Zt"
      },
      "source": [
        "def prefers_over_irving(prefer, prop, m1, m2):\n",
        "    n = len(prefer)\n",
        "    for i in range(n):\n",
        "        if prefer[prop][i] == m1:\n",
        "            return True\n",
        "        if prefer[prop][i] == m2:\n",
        "            return False\n",
        "\n",
        "\n",
        "def irving(prefer):\n",
        "    n = len(prefer)\n",
        "\n",
        "    free = [True for i in range(n)]\n",
        "    mate = [-1 for i in range(n)]\n",
        "\n",
        "    freecount = n\n",
        "\n",
        "    proposals = 0\n",
        "\n",
        "    mxiter = 100\n",
        "    iter = 0\n",
        "\n",
        "    while freecount > 0:\n",
        "        iter += 1\n",
        "        if(iter > mxiter):\n",
        "            return [list(range(n)),0]\n",
        "\n",
        "        m = 0\n",
        "        while m<n-1:\n",
        "            if free[m]:\n",
        "                break\n",
        "            m+=1\n",
        "        \n",
        "        i=0\n",
        "        while i<n and free[m]:\n",
        "            prop = prefer[m][i]\n",
        "            if mate[prop] == -1:\n",
        "                mate[prop] = m\n",
        "                mate[m] = prop\n",
        "                free[m] = False\n",
        "                free[prop] = False\n",
        "                freecount -= 2\n",
        "            \n",
        "            else:\n",
        "                if prefers_over_irving(prefer,prop,m,mate[prop]):\n",
        "                    free[mate[prop]] = True\n",
        "                    mate[mate[prop]] = -1\n",
        "                    mate[prop] = m\n",
        "                    mate[m] = prop\n",
        "                    free[m] = False\n",
        "            \n",
        "            proposals += 1\n",
        "            \n",
        "            i+=1\n",
        "        \n",
        "        #print(proposals, mate)\n",
        "\n",
        "    return [mate, proposals]\n",
        "\n",
        "def check_stability_irving(prefer, mate):\n",
        "    n = len(prefer)\n",
        "\n",
        "    if mate == list(range(n)):\n",
        "        return False\n",
        "\n",
        "    for i in range(n):\n",
        "        for m in prefer[i]:\n",
        "            if m == mate[i]:\n",
        "                break\n",
        "            for j in prefer[m]:\n",
        "                if j == mate[m]:\n",
        "                    break\n",
        "                if j == i:\n",
        "                    return False\n",
        "\n",
        "    return True"
      ],
      "execution_count": 5,
      "outputs": []
    },
    {
      "cell_type": "markdown",
      "metadata": {
        "id": "61CYUUU2L4Zu"
      },
      "source": [
        "Dentro de la libreria `matching` existe tambien una función que ejecuta el algoritmo para obtener las parejas resultantes con la que podemos comparar resultados, recordando que para un conjunto de preferencias existen varios emparejamientos estables."
      ]
    },
    {
      "cell_type": "code",
      "metadata": {
        "colab": {
          "base_uri": "https://localhost:8080/"
        },
        "id": "CtogiVKtuc5J",
        "outputId": "c02f6a0a-9f06-47db-f45f-0ccbc1eb4e0b"
      },
      "source": [
        "!pip install matching"
      ],
      "execution_count": 6,
      "outputs": [
        {
          "output_type": "stream",
          "text": [
            "Requirement already satisfied: matching in /usr/local/lib/python3.6/dist-packages (1.4)\n"
          ],
          "name": "stdout"
        }
      ]
    },
    {
      "cell_type": "markdown",
      "metadata": {
        "id": "-h3jiNVvZu_D"
      },
      "source": [
        "\n",
        "Veamos algunos ejemplos:"
      ]
    },
    {
      "cell_type": "code",
      "metadata": {
        "colab": {
          "base_uri": "https://localhost:8080/"
        },
        "id": "IXDmUpupL4Zu",
        "outputId": "e731b0f9-d56a-4cdd-816c-2182102ce23c"
      },
      "source": [
        "prefers = []\n",
        "\n",
        "prefers.append([[5,4,7,1,2,3,6],\n",
        "                [2,5,4,6,7,0,3],\n",
        "                [3,6,1,7,0,5,4],\n",
        "                [4,7,2,0,5,6,1],\n",
        "                [1,0,3,5,6,7,2],\n",
        "                [6,1,0,2,3,4,7],\n",
        "                [7,2,5,3,4,1,0],\n",
        "                [0,3,6,4,1,2,5]])\n",
        "\n",
        "prefers.append([[4,2,5,1,3],\n",
        "                [2,0,4,3,5],\n",
        "                [3,5,1,0,4],\n",
        "                [1,0,2,5,4],\n",
        "                [5,2,3,0,1],\n",
        "                [0,1,3,4,2]])\n",
        "\n",
        "prefers.append([[1,2,3],\n",
        "                [2,3,0],\n",
        "                [3,1,0],\n",
        "                [1,2,0]])\n",
        "\n",
        "from matching.games import StableRoommates\n",
        "\n",
        "for pr in prefers:\n",
        "    print('Participants:\\t',[list(range(len(pr))), \"# propuestas\"])\n",
        "    print('Matching:\\t',irving(pr))\n",
        "    print('Stability:\\t',check_stability_irving(pr,irving(pr)[0]))\n",
        "    print('Library:\\t',StableRoommates.create_from_dictionary(dict(enumerate(pr))).solve(),'\\n')"
      ],
      "execution_count": 7,
      "outputs": [
        {
          "output_type": "stream",
          "text": [
            "Participants:\t [[0, 1, 2, 3, 4, 5, 6, 7], '# propuestas']\n",
            "Matching:\t [[5, 2, 1, 4, 3, 0, 7, 6], 4]\n",
            "Stability:\t True\n",
            "Library:\t {0: 7, 1: 4, 2: 3, 3: 2, 4: 1, 5: 6, 6: 5, 7: 0} \n",
            "\n",
            "Participants:\t [[0, 1, 2, 3, 4, 5], '# propuestas']\n",
            "Matching:\t [[4, 3, 5, 1, 0, 2], 11]\n",
            "Stability:\t False\n",
            "Library:\t {0: None, 1: 2, 2: 3, 3: 1, 4: None, 5: None} \n",
            "\n",
            "Participants:\t [[0, 1, 2, 3], '# propuestas']\n",
            "Matching:\t [[1, 0, 3, 2], 2]\n",
            "Stability:\t False\n",
            "Library:\t {0: None, 1: None, 2: None, 3: None} \n",
            "\n"
          ],
          "name": "stdout"
        },
        {
          "output_type": "stream",
          "text": [
            "/usr/local/lib/python3.6/dist-packages/matching/algorithms/stable_roommates.py:101: NoStableMatchingWarning: The following players have emptied their preference list: [0, 4, 5]\n",
            "  \"The following players have emptied their preference list: \"\n",
            "/usr/local/lib/python3.6/dist-packages/matching/algorithms/stable_roommates.py:141: NoStableMatchingWarning: The following players have been rejected by all others, emptying their preference list: [0]\n",
            "  \"The following players have been rejected by all others, \"\n",
            "/usr/local/lib/python3.6/dist-packages/matching/algorithms/stable_roommates.py:101: NoStableMatchingWarning: The following players have emptied their preference list: [0, 1, 2, 3]\n",
            "  \"The following players have emptied their preference list: \"\n"
          ],
          "name": "stderr"
        }
      ]
    },
    {
      "cell_type": "markdown",
      "metadata": {
        "id": "LwYnsO4AL4Z1"
      },
      "source": [
        "Analicemos ahora el mejor y peor caso posible para n = 4:\n"
      ]
    },
    {
      "cell_type": "code",
      "metadata": {
        "colab": {
          "base_uri": "https://localhost:8080/"
        },
        "id": "rk4BhhHkL4Z1",
        "outputId": "52fab8f0-402a-402f-adf9-999951e538f4"
      },
      "source": [
        "best_case = [[1, 2, 3],\n",
        "             [0, 2, 3],\n",
        "             [3, 0, 1],\n",
        "             [2, 0, 1]]\n",
        "\n",
        "worst_case = [[1, 2, 3],\n",
        "              [2, 3, 0],\n",
        "              [0, 1, 3],\n",
        "              [1, 2, 0]]\n",
        "\n",
        "best_res = irving(best_case)\n",
        "print('Participants:\\t',[list(range(len(best_case))), \"# propuestas\"])\n",
        "print('Matching:\\t',best_res)\n",
        "print('Stability:\\t',check_stability_irving(best_case,best_res[0]),'\\n')\n",
        "\n",
        "worst_res = irving(worst_case)\n",
        "print('Participants:\\t',[list(range(len(worst_case))), \"# propuestas\"])\n",
        "print('Matching:\\t',worst_res)\n",
        "print('Stability:\\t',check_stability_irving(worst_case,worst_res[0]),'\\n')"
      ],
      "execution_count": 8,
      "outputs": [
        {
          "output_type": "stream",
          "text": [
            "Participants:\t [[0, 1, 2, 3], '# propuestas']\n",
            "Matching:\t [[1, 0, 3, 2], 2]\n",
            "Stability:\t True \n",
            "\n",
            "Participants:\t [[0, 1, 2, 3], '# propuestas']\n",
            "Matching:\t [[2, 3, 0, 1], 7]\n",
            "Stability:\t True \n",
            "\n"
          ],
          "name": "stdout"
        }
      ]
    },
    {
      "cell_type": "markdown",
      "metadata": {
        "id": "W3E95j3fL4Z1"
      },
      "source": [
        "Ahora analicemos el mejor caso para n = 40."
      ]
    },
    {
      "cell_type": "code",
      "metadata": {
        "colab": {
          "base_uri": "https://localhost:8080/"
        },
        "id": "M3w834uAaEUJ",
        "outputId": "297c4916-7a13-41de-8dd2-b9c47b3bc04c"
      },
      "source": [
        "n = 40\n",
        "\n",
        "best_case = [[i+(-1)**i]+list(range(min(i,i+(-1)**i)))+list(range(max(i,i+(-1)**i)+1,n)) for i in range(n)]\n",
        "\n",
        "best_res = irving(best_case)\n",
        "print('Participants:\\t',[list(range(len(best_case))), \"# propuestas\"])\n",
        "print('Matching:\\t',best_res)\n",
        "print('Stability:\\t',check_stability_irving(best_case,best_res[0]),'\\n')"
      ],
      "execution_count": 9,
      "outputs": [
        {
          "output_type": "stream",
          "text": [
            "Participants:\t [[0, 1, 2, 3, 4, 5, 6, 7, 8, 9, 10, 11, 12, 13, 14, 15, 16, 17, 18, 19, 20, 21, 22, 23, 24, 25, 26, 27, 28, 29, 30, 31, 32, 33, 34, 35, 36, 37, 38, 39], '# propuestas']\n",
            "Matching:\t [[1, 0, 3, 2, 5, 4, 7, 6, 9, 8, 11, 10, 13, 12, 15, 14, 17, 16, 19, 18, 21, 20, 23, 22, 25, 24, 27, 26, 29, 28, 31, 30, 33, 32, 35, 34, 37, 36, 39, 38], 20]\n",
            "Stability:\t True \n",
            "\n"
          ],
          "name": "stdout"
        }
      ]
    },
    {
      "cell_type": "markdown",
      "metadata": {
        "id": "H9Rk1f2FiAaR"
      },
      "source": [
        "2) Run the Gale-Shapley Algorithm 100 times using random permutations as preference lists for n=4 and 40. Find the minimum, maximum and average number of iterations and plot the distribution of the number of iterations."
      ]
    },
    {
      "cell_type": "code",
      "metadata": {
        "colab": {
          "base_uri": "https://localhost:8080/",
          "height": 348
        },
        "id": "_oqRU4TbiTjN",
        "outputId": "180f8791-707e-44e5-f877-8d28963fc7fd"
      },
      "source": [
        "from collections import defaultdict\n",
        "import numpy as np\n",
        "import random as r\n",
        "import matplotlib.pyplot as plt\n",
        "\n",
        "n = 4\n",
        "tries = 100\n",
        "\n",
        "hist= np.zeros((13),dtype=np.int)\n",
        "proposals = []\n",
        "\n",
        "for i in range(tries):\n",
        "    \n",
        "    pref = [list(np.random.permutation(n)+n) for i in range(n)]+[list(np.random.permutation(n)) for i in range(n)]\n",
        "    res = gale(pref)\n",
        "    hist[res[1]]+=1\n",
        "    proposals.append(res[1])\n",
        "\n",
        "plt.hist(list(map(str,range(13))),bins=list(map(str,range(14))),align='left',color='coral',weights=hist) #Histograma\n",
        "plt.title('Número de propuestas para 100 pruebas con n = 4')\n",
        "plt.ylabel('Número de pruebas')\n",
        "plt.xlabel('Número de propuestas')\n",
        "plt.show()\n",
        "\n",
        "print(\"Número máximo de propuestas: \", max(proposals))\n",
        "print(\"Número mínimo of iterations: \", min(proposals))\n",
        "print(\"Número promedio de propuestas: \", sum(proposals)/tries)"
      ],
      "execution_count": 10,
      "outputs": [
        {
          "output_type": "display_data",
          "data": {
            "image/png": "[encoded data removed]",
            "text/plain": [
              "<Figure size 432x288 with 1 Axes>"
            ]
          },
          "metadata": {
            "tags": [],
            "needs_background": "light"
          }
        },
        {
          "output_type": "stream",
          "text": [
            "Número máximo de propuestas:  8\n",
            "Número mínimo of iterations:  4\n",
            "Número promedio de propuestas:  5.18\n"
          ],
          "name": "stdout"
        }
      ]
    },
    {
      "cell_type": "code",
      "metadata": {
        "colab": {
          "base_uri": "https://localhost:8080/",
          "height": 287
        },
        "id": "kjwT2v3n15RK",
        "outputId": "8711df30-6c59-4461-9c09-692dd314e4ae"
      },
      "source": [
        "n = 40\n",
        "tries = 100\n",
        "\n",
        "hist= np.zeros((1561),dtype=np.int)\n",
        "proposals = []\n",
        "\n",
        "for i in range(tries):\n",
        "    \n",
        "    pref = [list(np.random.permutation(n)+n) for i in range(n)]+[list(np.random.permutation(n)) for i in range(n)]\n",
        "    res = gale(pref)\n",
        "    hist[res[1]]+=1\n",
        "    proposals.append(res[1])\n",
        "\n",
        "plt.figure(figsize=(24,4))\n",
        "plt.hist(list(map(str,range(min(proposals),max(proposals)))),bins=list(map(str,range(min(proposals),max(proposals)+1))),align='left',color='coral',weights=hist[min(proposals):max(proposals)]) #Histograma\n",
        "plt.title('Número de propuestas para 100 pruebas con n = 40')\n",
        "plt.ylabel('Número de pruebas')\n",
        "plt.xlabel('Número de propuestas')\n",
        "plt.show()\n",
        "\n",
        "print(\"Número máximo de propuestas: \", max(proposals))\n",
        "print(\"Número mínimo of iterations: \", min(proposals))\n",
        "print(\"Número promedio de propuestas: \", sum(proposals)/tries)"
      ],
      "execution_count": 11,
      "outputs": [
        {
          "output_type": "display_data",
          "data": {
            "image/png": "[encoded data removed]",
            "text/plain": [
              "<Figure size 1728x288 with 1 Axes>"
            ]
          },
          "metadata": {
            "tags": [],
            "needs_background": "light"
          }
        },
        {
          "output_type": "stream",
          "text": [
            "Número máximo de propuestas:  104\n",
            "Número mínimo of iterations:  57\n",
            "Número promedio de propuestas:  78.36\n"
          ],
          "name": "stdout"
        }
      ]
    }
  ]
}