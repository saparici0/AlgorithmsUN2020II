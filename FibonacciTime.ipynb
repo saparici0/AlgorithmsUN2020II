{
  "nbformat": 4,
  "nbformat_minor": 0,
  "metadata": {
    "colab": {
      "name": "FibonacciTime",
      "provenance": [],
      "collapsed_sections": []
    },
    "kernelspec": {
      "name": "python3",
      "display_name": "Python 3"
    }
  },
  "cells": [
    {
      "cell_type": "markdown",
      "metadata": {
        "id": "A5_0ALT3hHQf"
      },
      "source": [
        "<p><img alt=\"UN logo\" height=\"80px\" src=\"https://unal.edu.co/typo3conf/ext/unal_skin_default/Resources/Public/images/escudoUnal_black.png\" align=\"right\" hspace=\"0px\" vspace=\"0px\"></p>"
      ]
    },
    {
      "cell_type": "markdown",
      "metadata": {
        "id": "osm6YUL5dGlR"
      },
      "source": [
        "<H1 align=\"center\">Laboratory 10</H1>\n",
        "<H1 align=\"center\">Bubble Sort Distribution</H1>\n",
        "<h3 align=\"center\">Simón Aparicio Bocanegra</h3>\n",
        "<h3 align=\"center\">Andrés Felipe Jiménez Pérez</h3>\n",
        "<h3 align=\"center\">2016696 - Algorithms - Grupo 2</h3>\n",
        "<h4 align=\"center\">UNIVERSIDAD NACIONAL DE COLOMBIA</h4>\n",
        "<h3 align=\"center\">November, 2020</h3>"
      ]
    },
    {
      "cell_type": "markdown",
      "metadata": {
        "id": "yWiAXzL6OLzP"
      },
      "source": [
        "**2. Plot of the recursive Fibonacci time $[0,50]$ and the iterative Fibonacci time $[0,500]$ including the line $y=n$ to compare in a Colab notebook and upload the notebook in BubbleSortDistribution,ipynb in the group’s github.**"
      ]
    },
    {
      "cell_type": "code",
      "metadata": {
        "id": "pPPDB-iYx_e_"
      },
      "source": [
        "import time\n",
        "import matplotlib.pyplot as plt\n",
        "import numpy as np\n",
        "from matplotlib import figure"
      ],
      "execution_count": null,
      "outputs": []
    },
    {
      "cell_type": "markdown",
      "metadata": {
        "id": "did-IiJpWrqZ"
      },
      "source": [
        "We define the recursive Fibonacci function."
      ]
    },
    {
      "cell_type": "code",
      "metadata": {
        "id": "esj4aqUGfj15"
      },
      "source": [
        "def r_fib(n):\n",
        "    if n < 2:\n",
        "        return 0\n",
        "    else:\n",
        "        return r_fib(n-1)+r_fib(n-2)"
      ],
      "execution_count": null,
      "outputs": []
    },
    {
      "cell_type": "markdown",
      "metadata": {
        "id": "nbc4vXxpX7oY"
      },
      "source": [
        "Then we iterate between 0 and 50 and save the time needed to calculate it."
      ]
    },
    {
      "cell_type": "code",
      "metadata": {
        "colab": {
          "base_uri": "https://localhost:8080/"
        },
        "id": "Ib1X5towgixB",
        "outputId": "4c3f2852-f225-46a9-e631-94676b3bdbdf"
      },
      "source": [
        "mr = 50\n",
        "\n",
        "timesr = np.zeros((mr+1))\n",
        "\n",
        "for i in range(mr+1):\n",
        "    s = time.time()\n",
        "    r_fib(i)\n",
        "    timesr[i] = time.time()-s\n",
        "    print('.',end='')"
      ],
      "execution_count": null,
      "outputs": [
        {
          "output_type": "stream",
          "text": [
            "..................................................."
          ],
          "name": "stdout"
        }
      ]
    },
    {
      "cell_type": "markdown",
      "metadata": {
        "id": "z6bKSjQnYJv8"
      },
      "source": [
        "It's worth noting that the code takes more than an hour to execute. Now we can graph the time needed and compare with the lineal function n, i.e a second for each n increase."
      ]
    },
    {
      "cell_type": "code",
      "metadata": {
        "colab": {
          "base_uri": "https://localhost:8080/"
        },
        "id": "mY9FUxgPgiC_",
        "outputId": "2b85f0d9-8168-45f2-83d7-27876bfb113b"
      },
      "source": [
        "plt.title(\"Time of recursive Fibonacci calcularion\")\n",
        "plt.xlabel(\"$n$\")\n",
        "plt.ylabel(\"$t(F_n)$\")\n",
        "plt.plot(range(mr+1),timesr)\n",
        "plt.plot(range(mr+1),range(mr+1)) \n",
        "plt.grid(True)\n",
        "plt.figure(figsize=(10000,10000))\n",
        "plt.show();"
      ],
      "execution_count": null,
      "outputs": [
        {
          "output_type": "display_data",
          "data": {
            "image/png": "[encoded data removed]",
            "text/plain": [
              "<Figure size 432x288 with 1 Axes>"
            ]
          },
          "metadata": {
            "tags": [],
            "needs_background": "light"
          }
        },
        {
          "output_type": "display_data",
          "data": {
            "text/plain": [
              "<Figure size 720000x720000 with 0 Axes>"
            ]
          },
          "metadata": {
            "tags": []
          }
        }
      ]
    },
    {
      "cell_type": "markdown",
      "metadata": {
        "id": "y5ZjMy7oaAuc"
      },
      "source": [
        "Watching the resulting graph, one can evidently see that the algorithm has an exponential calculation time, taking almost 4000 seconds or 1.11 hours to calculate de last n (50)."
      ]
    },
    {
      "cell_type": "markdown",
      "metadata": {
        "id": "TXQrmCA0b1iD"
      },
      "source": [
        "We create a function that calculates the n number in the Fibonacci secuence using an iterative method."
      ]
    },
    {
      "cell_type": "code",
      "metadata": {
        "id": "Ocix_LVbey8N"
      },
      "source": [
        "def i_fib(n):\n",
        "    a = 0\n",
        "    b = 1\n",
        "    c = 0\n",
        "    for i in range(n):\n",
        "        c = a + b\n",
        "        a, b = b, c\n",
        "    return c"
      ],
      "execution_count": null,
      "outputs": []
    },
    {
      "cell_type": "markdown",
      "metadata": {
        "id": "EVv6KqWldXqn"
      },
      "source": [
        "Since this method is faster we can do the calculation for a much larger n."
      ]
    },
    {
      "cell_type": "code",
      "metadata": {
        "id": "C1_6aruRgoE6"
      },
      "source": [
        "mi = 500\n",
        "\n",
        "timesi = np.zeros((mi+1))\n",
        "\n",
        "for i in range(mi+1):\n",
        "    s = time.time()\n",
        "    i_fib(i)\n",
        "    timesi[i] = time.time()-s"
      ],
      "execution_count": null,
      "outputs": []
    },
    {
      "cell_type": "markdown",
      "metadata": {
        "id": "PBW5TgQffAIi"
      },
      "source": [
        "Despite the larger n, the calculation takes significantly less time. Let us graph again the time data obtained versus the function n."
      ]
    },
    {
      "cell_type": "code",
      "metadata": {
        "colab": {
          "base_uri": "https://localhost:8080/",
          "height": 295
        },
        "id": "9TM2897OgMl_",
        "outputId": "c3878364-5d1b-464e-ccc0-8b92107493e3"
      },
      "source": [
        "plt.title(\"Time of iterative Fibonacci calculation\")\n",
        "plt.xlabel(\"$n$\")\n",
        "plt.ylabel(\"$t(F_n)$\")\n",
        "plt.plot(range(mi+1),timesi)\n",
        "plt.plot(range(mi+1),np.array(range(mi+1))) \n",
        "plt.grid(True)\n",
        "plt.show();"
      ],
      "execution_count": null,
      "outputs": [
        {
          "output_type": "display_data",
          "data": {
            "image/png": "[encoded data removed]",
            "text/plain": [
              "<Figure size 432x288 with 1 Axes>"
            ]
          },
          "metadata": {
            "tags": [],
            "needs_background": "light"
          }
        }
      ]
    },
    {
      "cell_type": "markdown",
      "metadata": {
        "id": "FZMGZX3WgQ3d"
      },
      "source": [
        "The function n grows much much faster than the calculation time of the n Fibonacci number. We could gather more information by reducig the constant that multiplies the n function. A constant that more closely gets the function and the obtained data. By trial an error we find that constant to be 1e-7."
      ]
    },
    {
      "cell_type": "code",
      "metadata": {
        "colab": {
          "base_uri": "https://localhost:8080/",
          "height": 295
        },
        "id": "B7ZRoBgcgp1Z",
        "outputId": "9f048cb9-a193-4226-aa3e-0105336e20c8"
      },
      "source": [
        "plt.title(\"Time of iterative Fibonacci calculation\")\n",
        "plt.xlabel(\"$n$\")\n",
        "plt.ylabel(\"$t(F_n)$\")\n",
        "plt.plot(range(mi+1),timesi)\n",
        "plt.plot(range(mi+1),np.array(range(mi+1))*1e-7) \n",
        "plt.grid(True)\n",
        "plt.show();"
      ],
      "execution_count": null,
      "outputs": [
        {
          "output_type": "display_data",
          "data": {
            "image/png": "[encoded data removed]",
            "text/plain": [
              "<Figure size 432x288 with 1 Axes>"
            ]
          },
          "metadata": {
            "tags": [],
            "needs_background": "light"
          }
        }
      ]
    },
    {
      "cell_type": "markdown",
      "metadata": {
        "id": "3CERSwvXhOdo"
      },
      "source": [
        "Looking at the graph we can suppose the growth rate of the iterative Fibonacci function is linear with a constant just larger than 1e-7."
      ]
    }
  ]
}