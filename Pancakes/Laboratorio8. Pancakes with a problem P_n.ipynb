{
  "nbformat": 4,
  "nbformat_minor": 0,
  "metadata": {
    "colab": {
      "name": "Laboratorio8. Pancakes with a problem. P_n.ipynb",
      "provenance": [],
      "collapsed_sections": []
    },
    "kernelspec": {
      "name": "python3",
      "display_name": "Python 3"
    }
  },
  "cells": [
    {
      "cell_type": "markdown",
      "metadata": {
        "id": "oF910wotM9TB"
      },
      "source": [
        "# Laboratorio 8. Pancakes with a problem. $P_n$\n",
        "\n",
        "Nombre: Simón Aparicio Bocanegra"
      ]
    },
    {
      "cell_type": "markdown",
      "metadata": {
        "id": "R6lE_aroHNB_"
      },
      "source": [
        "Modificando el codigo obtenemos una función que nos permite calcular $P_n$ para cualquier n deseado. La función no solo retorna $P_n$ sino también la permutación para dicho $P_n$, el número de nodos recorridos y el número de nodos existentes. De esta información podemos estimar la complejidad del algoritmo. El código se ejecutara durante varias horas intentando alcanzar el n mas grande posible y los resultados se guardaran en un archivo de texto además de ser impresos en el notebook."
      ]
    },
    {
      "cell_type": "code",
      "metadata": {
        "id": "VETTvt77I6wc"
      },
      "source": [
        "import math as m\n",
        "from collections import defaultdict "
      ],
      "execution_count": null,
      "outputs": []
    },
    {
      "cell_type": "code",
      "metadata": {
        "id": "M61IVLcZPfa5"
      },
      "source": [
        "def lstr(p):\n",
        "        return ''.join([str(elem)  for elem in p])"
      ],
      "execution_count": null,
      "outputs": []
    },
    {
      "cell_type": "code",
      "metadata": {
        "id": "iBDoPV8eATgR"
      },
      "source": [
        "def p_n(a):\n",
        "    j = 0\n",
        "    s = list(range(1,a+1))\n",
        "    max = [lstr(s), 0]\n",
        "    done = defaultdict()\n",
        "    distances = defaultdict()\n",
        "\n",
        "    distances[lstr(s)] = 0\n",
        "    \n",
        "    queue = [] \n",
        "    queue.append(s)\n",
        "\n",
        "    while queue: \n",
        "        s = queue.pop(0)\n",
        "        j+=1\n",
        "        if lstr(s) not in done.keys():\n",
        "            for i in range(len(s)-1):\n",
        "                d = s[i+1::-1] + s[i+2:]  \n",
        "                if (d != s):  \n",
        "                    if lstr(d) not in distances.keys():\n",
        "                        distances[lstr(d)] = 1000\n",
        "                    distances[lstr(d)] = min(distances[lstr(d)], 1+distances[lstr(s)])\n",
        "                    if(distances[lstr(d)] > max[1]):\n",
        "                        max[0] = lstr(d)\n",
        "                        max[1] = distances[lstr(d)]\n",
        "\n",
        "                    if lstr(d) not in done.keys(): queue.append(d)\n",
        "\n",
        "        done[lstr(s)] = True\n",
        "    \n",
        "    max.append(j)\n",
        "    max.append(m.factorial(a))\n",
        "    return max"
      ],
      "execution_count": null,
      "outputs": []
    },
    {
      "cell_type": "code",
      "metadata": {
        "id": "_8waiOkuFgzx",
        "colab": {
          "base_uri": "https://localhost:8080/"
        },
        "outputId": "48e1d4fd-6563-492d-837b-cf0f1d2825fb"
      },
      "source": [
        "file = open(\"pancake p_n.txt\", \"w\")\n",
        "n = 15\n",
        "try:\n",
        "    file.write('n [farest node, p_n, nodes checked, existing nodes]')\n",
        "    print('n [farest node, p_n, nodes checked, existing nodes]')\n",
        "    for i in range (1, n + 1):\n",
        "        result = p_n(i)      \n",
        "        file.write(str(i) + str(result) + \"\\n\") \n",
        "        print(i,str(result))\n",
        "finally:\n",
        "    file.close()"
      ],
      "execution_count": null,
      "outputs": [
        {
          "output_type": "stream",
          "text": [
            "n [farest node, p_n, nodes checked, existing nodes]\n",
            "1 ['1', 0, 1, 1]\n",
            "2 ['21', 1, 2, 2]\n",
            "3 ['132', 3, 7, 6]\n",
            "4 ['4231', 4, 37, 24]\n",
            "5 ['51324', 5, 241, 120]\n",
            "6 ['536142', 7, 1801, 720]\n",
            "7 ['6241735', 8, 15121, 5040]\n",
            "8 ['13246857', 9, 141121, 40320]\n",
            "9 ['423157968', 10, 1451521, 362880]\n"
          ],
          "name": "stdout"
        }
      ]
    }
  ]
}