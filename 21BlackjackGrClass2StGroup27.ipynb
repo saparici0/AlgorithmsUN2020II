{
  "nbformat": 4,
  "nbformat_minor": 0,
  "metadata": {
    "colab": {
      "name": "Montecarlo Algos.ipynb",
      "provenance": [],
      "collapsed_sections": []
    },
    "kernelspec": {
      "name": "python3",
      "display_name": "Python 3"
    }
  },
  "cells": [
    {
      "cell_type": "markdown",
      "metadata": {
        "id": "NgGbbfNSZn95"
      },
      "source": [
        "## **Laboratorio 4. Algoritmos. Grupo 27.**\n",
        "\n",
        "Nombres:\n",
        "* Simón Aparicio Bocanegra\n",
        "* Juan David Bello Rodriguez\n",
        "* Andrés Felipe Jiménez Pérez\n",
        "\n",
        "\n",
        "\n",
        "\n"
      ]
    },
    {
      "cell_type": "code",
      "metadata": {
        "id": "FgcdrMBAK55s"
      },
      "source": [
        "import numpy as np\n",
        "import random\n",
        "import matplotlib.pyplot as plt"
      ],
      "execution_count": 1,
      "outputs": []
    },
    {
      "cell_type": "code",
      "metadata": {
        "id": "gi18VyQ9uLL9"
      },
      "source": [
        "import warnings\n",
        "warnings.filterwarnings(\"ignore\")"
      ],
      "execution_count": 2,
      "outputs": []
    },
    {
      "cell_type": "code",
      "metadata": {
        "id": "atq6gQyLEcl5"
      },
      "source": [
        "#Declaración de las distintas barajas y creación de la lista que las contiene a todas.\n",
        "baraja = [1,2,3,4,5,6,7,8,9,10,11,12]*4\n",
        "barajaplus = [1,2,3,4,5,6,7,8,9,10,10,10]*4\n",
        "poker = [1,2,3,4,5,6,7,8,9,10,11,12,13]*4\n",
        "pokerplus = [1,2,3,4,5,6,7,8,9,10,10,10,10]*4\n",
        "\n",
        "gamenames = ['Baraja española', 'Poker 13', 'Baraja española 10', 'Poker 10']\n",
        "games = [baraja,poker,barajaplus,pokerplus]"
      ],
      "execution_count": 3,
      "outputs": []
    },
    {
      "cell_type": "code",
      "metadata": {
        "id": "nsnklg3POMr1",
        "outputId": "8dfad9f5-57d8-4de1-9208-ddcdc62b5016",
        "colab": {
          "base_uri": "https://localhost:8080/",
          "height": 295
        }
      },
      "source": [
        "#Este código simplificado permite hallar una probabilidad mas cercana al poderse correr un mayor número de veces\n",
        "n = 10000000\n",
        "\n",
        "for g in range(4): #Iteración sobre los 4 tipos de barajas\n",
        "\n",
        "    ncards = 0 #Suma de todos los números de cartas necesarias para todos los blackjacks \n",
        "    blackjacks = 0 #Número de blackjacks obtenidos \n",
        "\n",
        "    for i in range(n): #Iteración n veces\n",
        "\n",
        "        poker_i = games[g].copy() #Reinicio de la baraja\n",
        "        player = [] #Reinicio de la baraja del jugador\n",
        "\n",
        "        while sum(player) < 21: #Condición si estamos por debajo de 21\n",
        "            card = random.choice(poker_i) #Se escoge una caja al azar de la baraja\n",
        "            player.append(card) #Se guarda en la baraja del jugador\n",
        "            poker_i.remove(card) #Se elimina de la baraja\n",
        "\n",
        "        if(sum(player)==21): #Si se logra blackjack\n",
        "            blackjacks += 1 #Se suma 1 al número de blackjacks obtenidos\n",
        "            ncards += len(player) #Se suma la longitud de la baraja del jugador al número que lleva la suma total\n",
        "\n",
        "\n",
        "    print(gamenames[g]) #Se imprime el nombre de la baraja\n",
        "    \n",
        "    print('Probabilidad de lograr Blackjack\\t', blackjacks/n, '\\nNúmero de cartas promedio:\\t\\t', ncards/blackjacks,'\\n') #Se imprimen los resultados\n"
      ],
      "execution_count": 4,
      "outputs": [
        {
          "output_type": "stream",
          "text": [
            "Baraja española\n",
            "Probabilidad de lograr Blackjack\t 0.1577089 \n",
            "Número de cartas promedio:\t\t 3.4153139106290133 \n",
            "\n",
            "Poker 13\n",
            "Probabilidad de lograr Blackjack\t 0.1446567 \n",
            "Número de cartas promedio:\t\t 3.215623610935408 \n",
            "\n",
            "Baraja española 10\n",
            "Probabilidad de lograr Blackjack\t 0.1496074 \n",
            "Número de cartas promedio:\t\t 3.6991886764959485 \n",
            "\n",
            "Poker 10\n",
            "Probabilidad de lograr Blackjack\t 0.1401928 \n",
            "Número de cartas promedio:\t\t 3.57771797125102 \n",
            "\n"
          ],
          "name": "stdout"
        }
      ]
    },
    {
      "cell_type": "markdown",
      "metadata": {
        "id": "tdGmxHY3a8_Z"
      },
      "source": [
        "1. Calculate the probability of getting a 21 drawing cards sequentially from shuffled Spanish 48-deck with card values **[1,2,3,4,5,6,7,10,11,12,1,2,3,4,5,6,7,8,9,10,11,12,1,2,3,4,5,6,7,8,9,10,11,12,1,2,3,4,5,6,7,8,9,10,11,12]** and from a shuffled Poker 52-card with card values **[1,2,3,4,5,6,7,8,9,10,11,12,13,1,2,3,4,5,6,7,8,9,10,11,12,13,1,2,3,4,5,6,7,8,9,10,11,12,13,1,2,3,4,5,6,7,8,9,10,11,12,13]**. Plot the experimental distribution of the numbers of card requires to complete 21 in 10000 trials."
      ]
    },
    {
      "cell_type": "code",
      "metadata": {
        "id": "_G1ogwZMEpbX",
        "outputId": "03e18c6b-4c5d-45a8-ef17-3012241cba1c",
        "colab": {
          "base_uri": "https://localhost:8080/",
          "height": 682
        }
      },
      "source": [
        "n = 100000 #Número de iteraciónes\n",
        "\n",
        "for g in range(2): #Iteración sobre los dos primeros tipos de barajas\n",
        "\n",
        "    ncards = 0 #Número de carastas necesarias para lograr blackjack\n",
        "    blackjacks = 0 #Número de blackjacks\n",
        "    nhcards = np.zeros(10) #Arreglo que almacena los datos para el histograma. Cada posición representa un número de cartas\n",
        "\n",
        "    for i in range(n): #Iteración de n veces\n",
        "\n",
        "        poker_i = games[g].copy() #Reincio de la baraja\n",
        "        player = [] #Reinicio de la baraja del jugador\n",
        "\n",
        "        while sum(player) < 21: #Condicion si estamos por debajo de 21\n",
        "            card = random.choice(poker_i) #Se escoge una carta de la baraja al azar\n",
        "            player.append(card) #Se agrega la tarjeta a la baraja del jugador\n",
        "            poker_i.remove(card) #Se remueve la carta de la baraja\n",
        "\n",
        "        if(sum(player)==21): #Si se logra blackjack\n",
        "            blackjacks += 1 #Se suma 1 al número de blackjacks obtenidos\n",
        "            ncards += len(player) #Se suma el número de cartas que fueron necesarias\n",
        "            if (len(player) < 10):\n",
        "                nhcards[(len(player)-2)] += 1  #Se agrega el número al arreglo del histograma \n",
        "\n",
        "    print(gamenames[g]) #Nombre de la baraja\n",
        "\n",
        "    plt.hist(list(map(str,range(2,12))), bins=list(map(str,range(2,13))), align='left', color='lightgreen', weights=(nhcards/blackjacks)) #Histograma\n",
        "    plt.xlabel('Número de cartas para obtener Blackjack')\n",
        "    plt.ylabel('Porcentaje')\n",
        "    plt.show();\n",
        "    \n",
        "    print('Probabilidad de lograr Blackjack\\t', blackjacks/n, '\\nNúmero de cartas promedio:\\t\\t', ncards/blackjacks,'\\n') #Datos obtenidos\n"
      ],
      "execution_count": 5,
      "outputs": [
        {
          "output_type": "stream",
          "text": [
            "Baraja española\n"
          ],
          "name": "stdout"
        },
        {
          "output_type": "display_data",
          "data": {
            "image/png": "[encoded data removed]",
            "text/plain": [
              "<Figure size 432x288 with 1 Axes>"
            ]
          },
          "metadata": {
            "tags": [],
            "needs_background": "light"
          }
        },
        {
          "output_type": "stream",
          "text": [
            "Probabilidad de lograr Blackjack\t 0.15799 \n",
            "Número de cartas promedio:\t\t 3.4225583897715044 \n",
            "\n",
            "Poker 13\n"
          ],
          "name": "stdout"
        },
        {
          "output_type": "display_data",
          "data": {
            "image/png": "[encoded data removed]",
            "text/plain": [
              "<Figure size 432x288 with 1 Axes>"
            ]
          },
          "metadata": {
            "tags": [],
            "needs_background": "light"
          }
        },
        {
          "output_type": "stream",
          "text": [
            "Probabilidad de lograr Blackjack\t 0.14442 \n",
            "Número de cartas promedio:\t\t 3.2077274615704194 \n",
            "\n"
          ],
          "name": "stdout"
        }
      ]
    },
    {
      "cell_type": "markdown",
      "metadata": {
        "id": "vzelcNa4cZWh"
      },
      "source": [
        "2. Calculate the probability of getting a 21 drawing cards sequentially from shuffled Spanish 48-deck with card values are **[1,2,3,4,5,6,7,8,9,,10,10,10,1,2,3,4,5,6,7,8,9,10,10,10,1,2,3,4,5,6,7,8,9,10,10,10,1,2,3,4,5,6,7,8,9,10,10,10]** and **[1,2,3,4,5,6,7,8,9,10,10,10,10,1,2,3,4,5,6,7,8,9,10,10,10,10,1,2,3,4,5,6,7,8,9,10,10,10,10,1,2,3,4,5,6,7,8,9,10,10,10,10]** for the Spanish and Poker card decks. Plot the experimental distribution of the numbers of card requires to complete 21 in 10000 simulations."
      ]
    },
    {
      "cell_type": "code",
      "metadata": {
        "id": "seWd0WHtbeOl",
        "outputId": "60720391-2939-4796-d502-516150be96ef",
        "colab": {
          "base_uri": "https://localhost:8080/",
          "height": 682
        }
      },
      "source": [
        "n = 100000\n",
        "\n",
        "for g in range(2,4):\n",
        "\n",
        "    ncards = 0\n",
        "    blackjacks = 0\n",
        "    nhcards = np.zeros(10)\n",
        "\n",
        "    for i in range(n):\n",
        "\n",
        "        poker_i = games[g].copy()\n",
        "        player = []\n",
        "\n",
        "        while sum(player) < 21:\n",
        "            card = random.choice(poker_i)\n",
        "            player.append(card)\n",
        "            poker_i.remove(card)\n",
        "\n",
        "        if(sum(player)==21):\n",
        "            blackjacks += 1\n",
        "            ncards += len(player)\n",
        "            if (len(player) < 10):\n",
        "                nhcards[(len(player)-2)] += 1      \n",
        "\n",
        "    print(gamenames[g])\n",
        "\n",
        "    plt.hist(list(map(str,range(2,12))), bins=list(map(str,range(2,13))), align='left', color='lightblue', weights=(nhcards/blackjacks))\n",
        "    plt.xlabel('Número de cartas para obtener Blackjack')\n",
        "    plt.ylabel('Porcentaje')\n",
        "    plt.show();\n",
        "    \n",
        "    print('Probabilidad de lograr Blackjack\\t', blackjacks/n, '\\nNúmero de cartas promedio:\\t\\t', ncards/blackjacks,'\\n')\n"
      ],
      "execution_count": 6,
      "outputs": [
        {
          "output_type": "stream",
          "text": [
            "Baraja española 10\n"
          ],
          "name": "stdout"
        },
        {
          "output_type": "display_data",
          "data": {
            "image/png": "[encoded data removed]",
            "text/plain": [
              "<Figure size 432x288 with 1 Axes>"
            ]
          },
          "metadata": {
            "tags": [],
            "needs_background": "light"
          }
        },
        {
          "output_type": "stream",
          "text": [
            "Probabilidad de lograr Blackjack\t 0.15022 \n",
            "Número de cartas promedio:\t\t 3.7019038743176673 \n",
            "\n",
            "Poker 10\n"
          ],
          "name": "stdout"
        },
        {
          "output_type": "display_data",
          "data": {
            "image/png": "[encoded data removed]",
            "text/plain": [
              "<Figure size 432x288 with 1 Axes>"
            ]
          },
          "metadata": {
            "tags": [],
            "needs_background": "light"
          }
        },
        {
          "output_type": "stream",
          "text": [
            "Probabilidad de lograr Blackjack\t 0.1385 \n",
            "Número de cartas promedio:\t\t 3.592346570397112 \n",
            "\n"
          ],
          "name": "stdout"
        }
      ]
    },
    {
      "cell_type": "markdown",
      "metadata": {
        "id": "Om4kdUzHcnSl"
      },
      "source": [
        "3. Calculate the probability of getting a 21, with the Spanish and Poker card deck, assuming that you are in the middle of game and the remaining deck has *n/2* card and you have the cards **[7,7,5]**. You pick arbitrary what card are in the remaining deck with the only restriction that there are be maximum two 7s and three 5s). Plot the experimental distribution of the numbers of card requires to complete 21 in 10000 simulations."
      ]
    },
    {
      "cell_type": "code",
      "metadata": {
        "id": "Mqk8qMFUOktp",
        "outputId": "90e12b5a-19f2-417f-c719-db1d2e33e84d",
        "colab": {
          "base_uri": "https://localhost:8080/",
          "height": 1000
        }
      },
      "source": [
        "n = 100000\n",
        "\n",
        "for g in range(4): #Iteración sobre los distintos sobre las distintas barajas\n",
        "\n",
        "    ncards = 0 #Número de caratas necesarias para lograr blackjack\n",
        "    blackjacks = 0 #Número de blackjacks\n",
        "    nhcards = np.zeros(6) #Arreglo para el histograma. Cada posición es un número de cartas distinto\n",
        "\n",
        "    poker_0 = games[g].copy() #Copia de la baraja incial\n",
        "    poker_0.remove(7)\n",
        "    poker_0.remove(7)\n",
        "    poker_0.remove(5) #Eliminación de las cartas de la mano del jugador\n",
        "    poker_0 = random.sample(poker_0, k=(len(games[g])//2)) #Selección de una baraja de la mitad del tamaño original\n",
        "\n",
        "    print(gamenames[g]) #Nombre de la baraja\n",
        "    print('Baraja:',poker_0) #Baraja fija\n",
        "\n",
        "    teo_prob = poker_0.count(2)/len(poker_0) + poker_0.count(1)*(poker_0.count(1)-1)/(len(poker_0)*(len(poker_0)-1)) #Calculo de la probabilidad teorica contando el número de unos y doses.\n",
        "\n",
        "    for i in range(n):  #Iteración de n veces\n",
        "        poker_i = poker_0.copy() #Copia de la baraja para la iteración\n",
        "        player = [7,7,5] #Configuración de la mano del jugador\n",
        "\n",
        "        while sum(player) < 21: #Condición si estamos por debajo de 21\n",
        "            card = random.choice(poker_i) #Se elimina de la baraja\n",
        "            player.append(card) #se agrega a la baraja del jugador\n",
        "            poker_i.remove(card) #Se elimina de la baraja\n",
        "\n",
        "        if(sum(player)==21): #Si se logra blackjack\n",
        "            blackjacks += 1 #Se suma 1 al número de blackjacks obtenidos\n",
        "            ncards += len(player) #Se suḿa el número de cartas necesaris\n",
        "            if (len(player) < 8):\n",
        "                nhcards[(len(player)-2)] += 1 #SE grega el número de cartas al arreglo del histograma\n",
        "\n",
        "    plt.hist(list(map(str,range(2,8))), bins=list(map(str,range(2,9))), align='left', color='lightcoral', weights=(nhcards/blackjacks)) #Histograma\n",
        "    plt.xlabel('Número de cartas para obtener Blackjack')\n",
        "    plt.ylabel('Porcentaje')\n",
        "    plt.show();\n",
        "    \n",
        "    print('Probabilidad de lograr Blackjack\\t', blackjacks/n, '\\nNúmero de cartas promedio:\\t\\t', ncards/blackjacks) #Datos obtenidos\n",
        "    print('Probabilidad teórica:\\t\\t\\t',teo_prob,'\\n') #Probabilidad teorica"
      ],
      "execution_count": 7,
      "outputs": [
        {
          "output_type": "stream",
          "text": [
            "Baraja española\n",
            "Baraja: [10, 2, 1, 11, 8, 10, 12, 9, 5, 2, 4, 6, 12, 7, 9, 12, 11, 6, 2, 5, 1, 11, 10, 4]\n"
          ],
          "name": "stdout"
        },
        {
          "output_type": "display_data",
          "data": {
            "image/png": "[encoded data removed]",
            "text/plain": [
              "<Figure size 432x288 with 1 Axes>"
            ]
          },
          "metadata": {
            "tags": [],
            "needs_background": "light"
          }
        },
        {
          "output_type": "stream",
          "text": [
            "Probabilidad de lograr Blackjack\t 0.12884 \n",
            "Número de cartas promedio:\t\t 4.027631170443962\n",
            "Probabilidad teórica:\t\t\t 0.1286231884057971 \n",
            "\n",
            "Poker 13\n",
            "Baraja: [2, 3, 3, 13, 1, 5, 4, 8, 13, 10, 7, 11, 4, 11, 1, 1, 12, 12, 8, 12, 6, 10, 3, 3, 8, 2]\n"
          ],
          "name": "stdout"
        },
        {
          "output_type": "display_data",
          "data": {
            "image/png": "[encoded data removed]",
            "text/plain": [
              "<Figure size 432x288 with 1 Axes>"
            ]
          },
          "metadata": {
            "tags": [],
            "needs_background": "light"
          }
        },
        {
          "output_type": "stream",
          "text": [
            "Probabilidad de lograr Blackjack\t 0.08545 \n",
            "Número de cartas promedio:\t\t 4.105090696313634\n",
            "Probabilidad teórica:\t\t\t 0.08615384615384616 \n",
            "\n",
            "Baraja española 10\n",
            "Baraja: [4, 1, 10, 6, 2, 10, 4, 3, 3, 6, 3, 1, 1, 4, 9, 2, 7, 4, 9, 10, 10, 2, 10, 8]\n"
          ],
          "name": "stdout"
        },
        {
          "output_type": "display_data",
          "data": {
            "image/png": "[encoded data removed]",
            "text/plain": [
              "<Figure size 432x288 with 1 Axes>"
            ]
          },
          "metadata": {
            "tags": [],
            "needs_background": "light"
          }
        },
        {
          "output_type": "stream",
          "text": [
            "Probabilidad de lograr Blackjack\t 0.137 \n",
            "Número de cartas promedio:\t\t 4.082262773722627\n",
            "Probabilidad teórica:\t\t\t 0.1358695652173913 \n",
            "\n",
            "Poker 10\n",
            "Baraja: [9, 3, 6, 4, 5, 3, 2, 10, 6, 6, 10, 10, 2, 10, 9, 5, 10, 10, 10, 1, 10, 8, 6, 8, 10, 1]\n"
          ],
          "name": "stdout"
        },
        {
          "output_type": "display_data",
          "data": {
            "image/png": "[encoded data removed]",
            "text/plain": [
              "<Figure size 432x288 with 1 Axes>"
            ]
          },
          "metadata": {
            "tags": [],
            "needs_background": "light"
          }
        },
        {
          "output_type": "stream",
          "text": [
            "Probabilidad de lograr Blackjack\t 0.07912 \n",
            "Número de cartas promedio:\t\t 4.039939332659252\n",
            "Probabilidad teórica:\t\t\t 0.08 \n",
            "\n"
          ],
          "name": "stdout"
        }
      ]
    },
    {
      "cell_type": "markdown",
      "metadata": {
        "id": "BQAsCYO0dpIh"
      },
      "source": [
        "4. Find remaining decks for Spanish and Poker card decks, with the number of cards according to the list below, with highest (hot deck) and lowest (cold deck) probabilities of getting 21 assuming that you have cards **[7,7,5]**. Calculate the probabilities analytically and verify them with Montecarlo. Plot the experimental distribution of the numbers of card requires to complete 21 in 10000 simulations.\n",
        "\n",
        "* 12 remaining cards.\n",
        "* 10 remaining cards."
      ]
    },
    {
      "cell_type": "code",
      "metadata": {
        "id": "5sts8yJF9RcT",
        "outputId": "95929bc7-7c51-4fb2-b3ec-90d4f752aaf6",
        "colab": {
          "base_uri": "https://localhost:8080/",
          "height": 1000
        }
      },
      "source": [
        "n = 100000 #Número de iteraciones\n",
        "\n",
        "#Declaración de las distinas barajas calientes y frias y una lista que las contiene a todas\n",
        "hotest_deck10 =  [1,1,1,1,2,2,2,2,3,3]\n",
        "coldest_deck10 = [10,10,10,10,8,8,9,9,5,6]\n",
        "hotest_deck12 =  [1,1,1,1,2,2,2,2,10,10,5,5]\n",
        "coldest_deck12 = [10,10,10,10,8,8,9,9,5,5,6,6]\n",
        "\n",
        "decks = [hotest_deck10,coldest_deck10,hotest_deck12,coldest_deck12]\n",
        "deck_names = ['Hottest 10 deck', 'Coldest 10 deck', 'Hottest 12 deck', 'Coldest 12 deck']\n",
        "\n",
        "for d in range(4): #Iteración sobre los distintas barajas calientes y frías\n",
        "    teo_prob = decks[d].count(2)/len(decks[d]) + decks[d].count(1)*(decks[d].count(1)-1)/(len(decks[d])*(len(decks[d])-1)) #Calculo de la probabilidad de la baraja específica\n",
        "\n",
        "    ncards = 0 #Número de cartas necesarias para lograr blackjack\n",
        "    blackjacks = 0 #Número de blackjacks obtenidos\n",
        "    nhcards = np.zeros(6) #Arrreglo para realizar los histogramas de las cartas necesarias para lograr blackjack\n",
        "\n",
        "    for i in range(n): #Iteración n veces\n",
        "        poker_i = decks[d].copy() #Reinicio de la baraja\n",
        "        player = [7,7,5] #Reinicio de la mano del jugador\n",
        "\n",
        "        while sum(player) < 21: #Condicion si es menor a 21\n",
        "            card = random.choice(poker_i) #Se escoge una carta al azar\n",
        "            player.append(card) #Se inserta en la baraja del jugador\n",
        "            poker_i.remove(card) #Se remueve de la baraja\n",
        "\n",
        "        if(sum(player)==21): #Condición si se logra blackjack\n",
        "            blackjacks += 1 #Se suma 1 a l número de blackjacks obtenidos\n",
        "            ncards += len(player) #Se suma el número de cartas al número de cartas necesarias para obtener blackjack\n",
        "            if (len(player) < 8): #Se agrega al arreglo del histograma el número de cartas del jugador\n",
        "                nhcards[(len(player)-2)] += 1\n",
        "\n",
        "    print(deck_names[d]) #Nombre de la baraja\n",
        "    \n",
        "    plt.hist(list(map(str,range(2,8))), bins=list(map(str,range(2,9))), align='left', color='yellow', weights=(nhcards/blackjacks)) #Histograma\n",
        "    plt.xlabel('Número de cartas para obtener Blackjack')\n",
        "    plt.ylabel('Porcentaje')\n",
        "    plt.show();\n",
        "    \n",
        "    print('Probabilidad de lograr Blackjack:\\t', blackjacks/n , '\\nNúmero de cartas promedio:\\t\\t', ncards/max(1,blackjacks))\n",
        "    print('Probabilidad teórica:\\t\\t\\t',teo_prob,'\\n')"
      ],
      "execution_count": 8,
      "outputs": [
        {
          "output_type": "stream",
          "text": [
            "Hottest 10 deck\n"
          ],
          "name": "stdout"
        },
        {
          "output_type": "display_data",
          "data": {
            "image/png": "[encoded data removed]",
            "text/plain": [
              "<Figure size 432x288 with 1 Axes>"
            ]
          },
          "metadata": {
            "tags": [],
            "needs_background": "light"
          }
        },
        {
          "output_type": "stream",
          "text": [
            "Probabilidad de lograr Blackjack:\t 0.53376 \n",
            "Número de cartas promedio:\t\t 4.249587829736211\n",
            "Probabilidad teórica:\t\t\t 0.5333333333333333 \n",
            "\n",
            "Coldest 10 deck\n"
          ],
          "name": "stdout"
        },
        {
          "output_type": "display_data",
          "data": {
            "image/png": "[encoded data removed]",
            "text/plain": [
              "<Figure size 432x288 with 1 Axes>"
            ]
          },
          "metadata": {
            "tags": [],
            "needs_background": "light"
          }
        },
        {
          "output_type": "stream",
          "text": [
            "Probabilidad de lograr Blackjack:\t 0.0 \n",
            "Número de cartas promedio:\t\t 0.0\n",
            "Probabilidad teórica:\t\t\t 0.0 \n",
            "\n",
            "Hottest 12 deck\n"
          ],
          "name": "stdout"
        },
        {
          "output_type": "display_data",
          "data": {
            "image/png": "[encoded data removed]",
            "text/plain": [
              "<Figure size 432x288 with 1 Axes>"
            ]
          },
          "metadata": {
            "tags": [],
            "needs_background": "light"
          }
        },
        {
          "output_type": "stream",
          "text": [
            "Probabilidad de lograr Blackjack:\t 0.42532 \n",
            "Número de cartas promedio:\t\t 4.214779460171165\n",
            "Probabilidad teórica:\t\t\t 0.4242424242424242 \n",
            "\n",
            "Coldest 12 deck\n"
          ],
          "name": "stdout"
        },
        {
          "output_type": "display_data",
          "data": {
            "image/png": "[encoded data removed]",
            "text/plain": [
              "<Figure size 432x288 with 1 Axes>"
            ]
          },
          "metadata": {
            "tags": [],
            "needs_background": "light"
          }
        },
        {
          "output_type": "stream",
          "text": [
            "Probabilidad de lograr Blackjack:\t 0.0 \n",
            "Número de cartas promedio:\t\t 0.0\n",
            "Probabilidad teórica:\t\t\t 0.0 \n",
            "\n"
          ],
          "name": "stdout"
        }
      ]
    },
    {
      "cell_type": "markdown",
      "metadata": {
        "id": "pkDIFCtaeelf"
      },
      "source": [
        "5. If Ben goes to Vegas every weekend (Friday, Saturday and Sunday), plays every weekend day 10 hours, each game takes 3 mins. He gets the cards **[7,7,5]** and a remaining hot deck with probability *1/10*, the cards in hot deck are the ones obtained in the previous quiz point 4. Asume that for cold decks the Ben has no cards and the remaining deck is the complete deck. He bets \\$1000 on hot decks and \\$10 on cold decks. What is the estimated amount of money that Ben wins or losses on a weekend estimated with 10 million simulations using both the Spanish and Poker card decks? Plot the experimental distribution of the numbers of card requires to complete 21 in 10000 simulations."
      ]
    },
    {
      "cell_type": "code",
      "metadata": {
        "id": "cWoOl9Oq9fwZ",
        "outputId": "dbcd5705-dc66-4030-c0b0-618ebcdeeb4e",
        "colab": {
          "base_uri": "https://localhost:8080/",
          "height": 1000
        }
      },
      "source": [
        "n = 600 #Número de juegos en un fin de semana\n",
        "m = 10000 #Número de fines de semana iterados\n",
        "\n",
        "#Declaración de las barajas calientes y una lista que las contiene\n",
        "hotest_deck10 =  [1,1,1,1,2,2,2,2,3,7]\n",
        "hotest_deck12 =  [1,1,1,1,2,2,2,2,9,10,5,5]\n",
        "\n",
        "hot_decks = [hotest_deck10, hotest_deck12]\n",
        "deck_names = ['10 cartas', '12 cartas']\n",
        "\n",
        "for deck_num in range(2): #Iteración sobre las dos barajas calientes distintas\n",
        "\n",
        "    for d in range(4): #Iteración sobre las barajas\n",
        "\n",
        "        ncards = 0 #Número de cartas necesarias para lograr blackjack\n",
        "        blackjacks = 0 #Número de blackjacks obtenidos\n",
        "        nhcards = np.zeros(6) #Arreglo para el dibujo del histograma, cada posición guarda un número de cartas específico\n",
        "        nmoney = 0 #Dinero ganado\n",
        "\n",
        "        for j in range(m): #Iteración realizada 10000 veces\n",
        "\n",
        "            for i in range(n): #Iteración de los juegos de cada fin de semana\n",
        "\n",
        "                hot = random.random() < 0.1 #Hay o no baraja caliente con probabilidad del 10%\n",
        "                \n",
        "                if (hot): #Si la baraja está caliente\n",
        "                    poker_i = hot_decks[deck_num].copy() #La baraja del juego es una de las barajas calientes, se selecciona\n",
        "                    bet = 1000 #La apuesta es de $1000\n",
        "                    player = [7,7,5] #La mano del jugador es 7,7,5\n",
        "\n",
        "                else: #Si la baraja está fria\n",
        "                    poker_i = games[d].copy() #La baraja inicia completa \n",
        "                    bet = 10 #La apuesta es de $10\n",
        "                    player = [] #La mano del jugador inicia vacía\n",
        "\n",
        "                while sum(player) < 21: #Si estamos en menos de 21\n",
        "                    card = random.choice(poker_i) #Se escoge una carta de la baraja\n",
        "                    player.append(card) #Se inserta en la baraja del jugador\n",
        "                    poker_i.remove(card) #Se remueve de la baraja\n",
        "\n",
        "                if (sum(player)==21): #Si se logra blackjack\n",
        "                    blackjacks += 1 #Se suma 1 al número de blackjacks obtenidos\n",
        "                    ncards += len(player) #Se suma el número de cartas del jugador\n",
        "                    if (len(player) < 8): #Se agrega el número de cartas del jugador al arreglo del histograma\n",
        "                        nhcards[(len(player)-2)] += 1\n",
        "                    nmoney += bet #Al dinero total se le suma la apuesta\n",
        "                else: #No hay blackjacks, se pierde la apuesta\n",
        "                    nmoney -= bet #Se resta al dinero el valor de la apuesta\n",
        "\n",
        "        print(gamenames[d],'con',deck_names[deck_num],'restantes') #Impresión del caso\n",
        "\n",
        "        plt.hist(list(map(str,range(2,8))), bins=list(map(str,range(2,9))), align='left', color='lightgreen', weights=(nhcards/blackjacks)) #Histograma\n",
        "        plt.xlabel('Número de cartas para obtener Blackjack')\n",
        "        plt.ylabel('Porcentaje')\n",
        "        plt.show();\n",
        "        \n",
        "        print('Probabilidad de lograr Blackjack:\\t', blackjacks/(n*m), '\\nNúmero de cartas promedio:\\t\\t', ncards/blackjacks) #Datos obtenidos\n",
        "        print('Dinero final neto:\\t\\t\\t',nmoney/m,'\\nGanancia promedio por juego:\\t\\t',nmoney/(n*m),'\\n')"
      ],
      "execution_count": 9,
      "outputs": [
        {
          "output_type": "stream",
          "text": [
            "Baraja española con 10 cartas restantes\n"
          ],
          "name": "stdout"
        },
        {
          "output_type": "display_data",
          "data": {
            "image/png": "[encoded data removed]",
            "text/plain": [
              "<Figure size 432x288 with 1 Axes>"
            ]
          },
          "metadata": {
            "tags": [],
            "needs_background": "light"
          }
        },
        {
          "output_type": "stream",
          "text": [
            "Probabilidad de lograr Blackjack:\t 0.195381 \n",
            "Número de cartas promedio:\t\t 3.6431877545240665\n",
            "Dinero final neto:\t\t\t 323.085 \n",
            "Ganancia promedio por juego:\t\t 0.538475 \n",
            "\n",
            "Poker 13 con 10 cartas restantes\n"
          ],
          "name": "stdout"
        },
        {
          "output_type": "display_data",
          "data": {
            "image/png": "[encoded data removed]",
            "text/plain": [
              "<Figure size 432x288 with 1 Axes>"
            ]
          },
          "metadata": {
            "tags": [],
            "needs_background": "light"
          }
        },
        {
          "output_type": "stream",
          "text": [
            "Probabilidad de lograr Blackjack:\t 0.183629 \n",
            "Número de cartas promedio:\t\t 3.516487047252885\n",
            "Dinero final neto:\t\t\t 164.736 \n",
            "Ganancia promedio por juego:\t\t 0.27456 \n",
            "\n",
            "Baraja española 10 con 10 cartas restantes\n"
          ],
          "name": "stdout"
        },
        {
          "output_type": "display_data",
          "data": {
            "image/png": "[encoded data removed]",
            "text/plain": [
              "<Figure size 432x288 with 1 Axes>"
            ]
          },
          "metadata": {
            "tags": [],
            "needs_background": "light"
          }
        },
        {
          "output_type": "stream",
          "text": [
            "Probabilidad de lograr Blackjack:\t 0.18795633333333334 \n",
            "Número de cartas promedio:\t\t 3.856169606770367\n",
            "Dinero final neto:\t\t\t 216.466 \n",
            "Ganancia promedio por juego:\t\t 0.3607766666666667 \n",
            "\n",
            "Poker 10 con 10 cartas restantes\n"
          ],
          "name": "stdout"
        },
        {
          "output_type": "display_data",
          "data": {
            "image/png": "[encoded data removed]",
            "text/plain": [
              "<Figure size 432x288 with 1 Axes>"
            ]
          },
          "metadata": {
            "tags": [],
            "needs_background": "light"
          }
        },
        {
          "output_type": "stream",
          "text": [
            "Probabilidad de lograr Blackjack:\t 0.1793155 \n",
            "Número de cartas promedio:\t\t 3.777932378033875\n",
            "Dinero final neto:\t\t\t -66.513 \n",
            "Ganancia promedio por juego:\t\t -0.110855 \n",
            "\n",
            "Baraja española con 12 cartas restantes\n"
          ],
          "name": "stdout"
        },
        {
          "output_type": "display_data",
          "data": {
            "image/png": "[encoded data removed]",
            "text/plain": [
              "<Figure size 432x288 with 1 Axes>"
            ]
          },
          "metadata": {
            "tags": [],
            "needs_background": "light"
          }
        },
        {
          "output_type": "stream",
          "text": [
            "Probabilidad de lograr Blackjack:\t 0.18436316666666666 \n",
            "Número de cartas promedio:\t\t 3.60045526085742\n",
            "Dinero final neto:\t\t\t -12793.87 \n",
            "Ganancia promedio por juego:\t\t -21.323116666666667 \n",
            "\n",
            "Poker 13 con 12 cartas restantes\n"
          ],
          "name": "stdout"
        },
        {
          "output_type": "display_data",
          "data": {
            "image/png": "[encoded data removed]",
            "text/plain": [
              "<Figure size 432x288 with 1 Axes>"
            ]
          },
          "metadata": {
            "tags": [],
            "needs_background": "light"
          }
        },
        {
          "output_type": "stream",
          "text": [
            "Probabilidad de lograr Blackjack:\t 0.17272066666666666 \n",
            "Número de cartas promedio:\t\t 3.4620919712367946\n",
            "Dinero final neto:\t\t\t -12928.828 \n",
            "Ganancia promedio por juego:\t\t -21.548046666666668 \n",
            "\n",
            "Baraja española 10 con 12 cartas restantes\n"
          ],
          "name": "stdout"
        },
        {
          "output_type": "display_data",
          "data": {
            "image/png": "[encoded data removed]",
            "text/plain": [
              "<Figure size 432x288 with 1 Axes>"
            ]
          },
          "metadata": {
            "tags": [],
            "needs_background": "light"
          }
        },
        {
          "output_type": "stream",
          "text": [
            "Probabilidad de lograr Blackjack:\t 0.17704016666666667 \n",
            "Número de cartas promedio:\t\t 3.8216948884481017\n",
            "Dinero final neto:\t\t\t -12908.971 \n",
            "Ganancia promedio por juego:\t\t -21.514951666666665 \n",
            "\n",
            "Poker 10 con 12 cartas restantes\n"
          ],
          "name": "stdout"
        },
        {
          "output_type": "display_data",
          "data": {
            "image/png": "[encoded data removed]",
            "text/plain": [
              "<Figure size 432x288 with 1 Axes>"
            ]
          },
          "metadata": {
            "tags": [],
            "needs_background": "light"
          }
        },
        {
          "output_type": "stream",
          "text": [
            "Probabilidad de lograr Blackjack:\t 0.168671 \n",
            "Número de cartas promedio:\t\t 3.73915689913105\n",
            "Dinero final neto:\t\t\t -12812.985 \n",
            "Ganancia promedio por juego:\t\t -21.354975 \n",
            "\n"
          ],
          "name": "stdout"
        }
      ]
    },
    {
      "cell_type": "markdown",
      "metadata": {
        "id": "SxEphyeKtLuy"
      },
      "source": [
        "6. Extra credit (one class participation). Calculate analytically the average amount of money (expected values) that Ben wins or losses on a weekend for a Spanish 48-card deck with 3 10’s and for a Poker 52-card deck with 4 10’s."
      ]
    },
    {
      "cell_type": "markdown",
      "metadata": {
        "id": "KqXQ8kQQ2S4A"
      },
      "source": [
        "Tomando los cálculos del primer punto sabemos que la probabilidad de ganancia de las barajas es:\n",
        "\n",
        "* Baraja española con dieces: 0.1496485\n",
        "* Baraja de poker con dieces: 0.1401865 \n",
        "* Baraja española: 0.1580289\n",
        "* Baraja de poker: 0.1447357\n",
        "\n",
        "Así, el dinero promedio ganado en un juego con baraja fria (baraja completa) apostando $10 es:\n",
        "\n",
        "* **(10 * 0.1496485) + (-10 * (1 - 0.1496485))**\n",
        "* **(10 * 0.1401865) + (-10 * (1 - 0.1401865))**\n",
        "* **(10 * 0.1580289) + (-10 * (1 - 0.1580289))**\n",
        "* **(10 * 0.1447357) + (-10 * (1 - 0.1447357))**\n",
        "\n",
        "Y sabiendo que la probabilidad de ganancia de las barajas calientes de 10 y 12 cartas es:\n",
        "\n",
        "* Baraja caliente de 10 cartas: 0.533333333333333\n",
        "* Baraja caliente de 12 cartas: 0.4242424242424242\n",
        "\n",
        "El dinero promedio ganado en un juego con baraja caliete apostando $1000 es:\n",
        "\n",
        "* **(1000 * 0.533333333333333) + (-1000 * (1 - 0.533333333333333))**\n",
        "* **(1000 * 0.4242424242424242) + (-1000 * (1 - 0.4242424242424242))**\n",
        "\n",
        "Suponiendo que la probabilidad de sacar baraja caliente es del 10%, el dinero promedio por juego es:"
      ]
    },
    {
      "cell_type": "code",
      "metadata": {
        "id": "ITWBUxoXuEUw",
        "outputId": "ef8e2dae-e21c-4fe3-dd19-ecbfa1b7d3d1",
        "colab": {
          "base_uri": "https://localhost:8080/",
          "height": 364
        }
      },
      "source": [
        "print(\"\\nÚLTIMAS 10 CARTAS: \")\n",
        "\n",
        "e_10 = 0.9 * ((10 * 0.1496485) + (-10 * (1 - 0.1496485))) + 0.1 * ((1000 * 0.533333333333333) - 1000 * (1 - 0.533333333333333)) \n",
        "print(\"\\nBaraja española con 10's: $\" + str(e_10))\n",
        "\n",
        "p_10 = 0.9 * ((10 * 0.1401865) + (-10 * (1 - 0.1401865))) + 0.1 * ((1000 * 0.533333333333333) - 1000 * (1 - 0.533333333333333)) \n",
        "print(\"\\nBaraja de poker con 10's: $\" + str(p_10))\n",
        "\n",
        "e_12 = 0.9 * ((10 * 0.1580289) + (-10 * (1 - 0.1580289))) + 0.1 * ((1000 * 0.533333333333333) - 1000 * (1 - 0.533333333333333)) \n",
        "print(\"\\nBaraja española: $\" + str(e_12))\n",
        "\n",
        "p_12 = 0.9 * ((10 * 0.1447357) + (-10 * (1 - 0.1447357))) + 0.1 * ((1000 * 0.533333333333333) - 1000 * (1 - 0.533333333333333)) \n",
        "print(\"\\nBaraja de poker: $\" + str(p_12))\n",
        "\n",
        "print(\"\\nÚLTIMAS 12 CARTAS: \")\n",
        "\n",
        "e_10 = 0.9 * ((10 * 0.1496485) + (-10 * (1 - 0.1496485))) + 0.1 * ((1000 * 0.4242424242424242) - 1000 * (1 - 0.4242424242424242)) \n",
        "print(\"\\nBaraja española con 10's: $\" + str(e_10))\n",
        "\n",
        "p_10 = 0.9 * ((10 * 0.1401865) + (-10 * (1 - 0.1401865))) + 0.1 * ((1000 * 0.4242424242424242) - 1000 * (1 - 0.4242424242424242)) \n",
        "print(\"\\nBaraja de poker con 10's: $\" + str(p_10))\n",
        "\n",
        "e_12 = 0.9 * ((10 * 0.1580289) + (-10 * (1 - 0.1580289))) + 0.1 * ((1000 * 0.4242424242424242) - 1000 * (1 - 0.4242424242424242)) \n",
        "print(\"\\nBaraja española: $\" + str(e_12))\n",
        "\n",
        "p_12 = 0.9 * ((10 * 0.1447357) + (-10 * (1 - 0.1447357))) + 0.1 * ((1000 * 0.4242424242424242) - 1000 * (1 - 0.4242424242424242)) \n",
        "print(\"\\nBaraja de poker: $\" + str(p_12))"
      ],
      "execution_count": 10,
      "outputs": [
        {
          "output_type": "stream",
          "text": [
            "\n",
            "ÚLTIMAS 10 CARTAS: \n",
            "\n",
            "Baraja española con 10's: $0.3603396666665999\n",
            "\n",
            "Baraja de poker con 10's: $0.1900236666666011\n",
            "\n",
            "Baraja española: $0.5111868666666011\n",
            "\n",
            "Baraja de poker: $0.27190926666660076\n",
            "\n",
            "ÚLTIMAS 12 CARTAS: \n",
            "\n",
            "Baraja española con 10's: $-21.457842151515155\n",
            "\n",
            "Baraja de poker con 10's: $-21.628158151515155\n",
            "\n",
            "Baraja española: $-21.306994951515154\n",
            "\n",
            "Baraja de poker: $-21.546272551515155\n"
          ],
          "name": "stdout"
        }
      ]
    },
    {
      "cell_type": "markdown",
      "metadata": {
        "id": "8CJExUg7F8FR"
      },
      "source": [
        "Concluimos que el valor ganado en los 600 juegos es:"
      ]
    },
    {
      "cell_type": "code",
      "metadata": {
        "id": "7RNjOLd2GAAE",
        "outputId": "b378dfad-7413-4427-e959-14b9bb056314",
        "colab": {
          "base_uri": "https://localhost:8080/",
          "height": 364
        }
      },
      "source": [
        "print(\"\\nÚLTIMAS 10 CARTAS: \")\n",
        "\n",
        "e_10 = 600 * ( 0.9 * ((10 * 0.1496485) + (-10 * (1 - 0.1496485))) + 0.1 * ((1000 * 0.533333333333333) - 1000 * (1 - 0.533333333333333)) )\n",
        "print(\"\\nBaraja española con 10's: $\" + str(e_10))\n",
        "\n",
        "p_10 = 600 * ( 0.9 * ((10 * 0.1401865) + (-10 * (1 - 0.1401865))) + 0.1 * ((1000 * 0.533333333333333) - 1000 * (1 - 0.533333333333333)) )\n",
        "print(\"\\nBaraja de poker con 10's: $\" + str(p_10))\n",
        "\n",
        "e_12 = 600 * ( 0.9 * ((10 * 0.1580289) + (-10 * (1 - 0.1580289))) + 0.1 * ((1000 * 0.533333333333333) - 1000 * (1 - 0.533333333333333)) )\n",
        "print(\"\\nBaraja española: $\" + str(e_12))\n",
        "\n",
        "p_12 = 600 * ( 0.9 * ((10 * 0.1447357) + (-10 * (1 - 0.1447357))) + 0.1 * ((1000 * 0.533333333333333) - 1000 * (1 - 0.533333333333333)) )\n",
        "print(\"\\nBaraja de poker: $\" + str(p_12))\n",
        "\n",
        "print(\"\\nÚLTIMAS 12 CARTAS: \")\n",
        "\n",
        "e_10 = 600 * ( 0.9 * ((10 * 0.1496485) + (-10 * (1 - 0.1496485))) + 0.1 * ((1000 * 0.4242424242424242) - 1000 * (1 - 0.4242424242424242)) ) \n",
        "print(\"\\nBaraja española con 10's: $\" + str(e_10))\n",
        "\n",
        "p_10 = 600 * ( 0.9 * ((10 * 0.1401865) + (-10 * (1 - 0.1401865))) + 0.1 * ((1000 * 0.4242424242424242) - 1000 * (1 - 0.4242424242424242)) )\n",
        "print(\"\\nBaraja de poker con 10's: $\" + str(p_10))\n",
        "\n",
        "e_12 = 600 * ( 0.9 * ((10 * 0.1580289) + (-10 * (1 - 0.1580289))) + 0.1 * ((1000 * 0.4242424242424242) - 1000 * (1 - 0.4242424242424242)) )\n",
        "print(\"\\nBaraja española: $\" + str(e_12))\n",
        "\n",
        "p_12 = 600 * ( 0.9 * ((10 * 0.1447357) + (-10 * (1 - 0.1447357))) + 0.1 * ((1000 * 0.4242424242424242) - 1000 * (1 - 0.4242424242424242)) )\n",
        "print(\"\\nBaraja de poker: $\" + str(p_12))"
      ],
      "execution_count": 11,
      "outputs": [
        {
          "output_type": "stream",
          "text": [
            "\n",
            "ÚLTIMAS 10 CARTAS: \n",
            "\n",
            "Baraja española con 10's: $216.20379999995993\n",
            "\n",
            "Baraja de poker con 10's: $114.01419999996065\n",
            "\n",
            "Baraja española: $306.71211999996063\n",
            "\n",
            "Baraja de poker: $163.14555999996045\n",
            "\n",
            "ÚLTIMAS 12 CARTAS: \n",
            "\n",
            "Baraja española con 10's: $-12874.705290909093\n",
            "\n",
            "Baraja de poker con 10's: $-12976.894890909092\n",
            "\n",
            "Baraja española: $-12784.196970909092\n",
            "\n",
            "Baraja de poker: $-12927.763530909093\n"
          ],
          "name": "stdout"
        }
      ]
    }
  ]
}